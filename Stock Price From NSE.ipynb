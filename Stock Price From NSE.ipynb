{
 "cells": [
  {
   "cell_type": "code",
   "execution_count": 1,
   "metadata": {},
   "outputs": [],
   "source": [
    "#pip install nsepy\n",
    "from nsepy import get_history\n",
    "from datetime import datetime"
   ]
  },
  {
   "cell_type": "code",
   "execution_count": 2,
   "metadata": {},
   "outputs": [],
   "source": [
    "start = datetime(2017, 1, 1)\n",
    "end = datetime(2021, 1, 1)\n",
    "symbol=\"BHEL\""
   ]
  },
  {
   "cell_type": "code",
   "execution_count": 3,
   "metadata": {},
   "outputs": [],
   "source": [
    "data = get_history(symbol=symbol, start=start, end=end)"
   ]
  },
  {
   "cell_type": "code",
   "execution_count": 4,
   "metadata": {},
   "outputs": [
    {
     "data": {
      "text/html": [
       "<div>\n",
       "<style scoped>\n",
       "    .dataframe tbody tr th:only-of-type {\n",
       "        vertical-align: middle;\n",
       "    }\n",
       "\n",
       "    .dataframe tbody tr th {\n",
       "        vertical-align: top;\n",
       "    }\n",
       "\n",
       "    .dataframe thead th {\n",
       "        text-align: right;\n",
       "    }\n",
       "</style>\n",
       "<table border=\"1\" class=\"dataframe\">\n",
       "  <thead>\n",
       "    <tr style=\"text-align: right;\">\n",
       "      <th></th>\n",
       "      <th>Symbol</th>\n",
       "      <th>Series</th>\n",
       "      <th>Prev Close</th>\n",
       "      <th>Open</th>\n",
       "      <th>High</th>\n",
       "      <th>Low</th>\n",
       "      <th>Last</th>\n",
       "      <th>Close</th>\n",
       "      <th>VWAP</th>\n",
       "      <th>Volume</th>\n",
       "      <th>Turnover</th>\n",
       "      <th>Trades</th>\n",
       "      <th>Deliverable Volume</th>\n",
       "      <th>%Deliverble</th>\n",
       "    </tr>\n",
       "    <tr>\n",
       "      <th>Date</th>\n",
       "      <th></th>\n",
       "      <th></th>\n",
       "      <th></th>\n",
       "      <th></th>\n",
       "      <th></th>\n",
       "      <th></th>\n",
       "      <th></th>\n",
       "      <th></th>\n",
       "      <th></th>\n",
       "      <th></th>\n",
       "      <th></th>\n",
       "      <th></th>\n",
       "      <th></th>\n",
       "      <th></th>\n",
       "    </tr>\n",
       "  </thead>\n",
       "  <tbody>\n",
       "    <tr>\n",
       "      <th>2017-01-02</th>\n",
       "      <td>BHEL</td>\n",
       "      <td>EQ</td>\n",
       "      <td>121.20</td>\n",
       "      <td>121.20</td>\n",
       "      <td>123.30</td>\n",
       "      <td>120.70</td>\n",
       "      <td>122.45</td>\n",
       "      <td>122.50</td>\n",
       "      <td>122.44</td>\n",
       "      <td>3236619</td>\n",
       "      <td>3.962869e+13</td>\n",
       "      <td>17338</td>\n",
       "      <td>579201</td>\n",
       "      <td>0.1790</td>\n",
       "    </tr>\n",
       "    <tr>\n",
       "      <th>2017-01-03</th>\n",
       "      <td>BHEL</td>\n",
       "      <td>EQ</td>\n",
       "      <td>122.50</td>\n",
       "      <td>122.75</td>\n",
       "      <td>126.25</td>\n",
       "      <td>122.60</td>\n",
       "      <td>125.00</td>\n",
       "      <td>124.80</td>\n",
       "      <td>125.00</td>\n",
       "      <td>5189549</td>\n",
       "      <td>6.487066e+13</td>\n",
       "      <td>28322</td>\n",
       "      <td>1376396</td>\n",
       "      <td>0.2652</td>\n",
       "    </tr>\n",
       "    <tr>\n",
       "      <th>2017-01-04</th>\n",
       "      <td>BHEL</td>\n",
       "      <td>EQ</td>\n",
       "      <td>124.80</td>\n",
       "      <td>125.05</td>\n",
       "      <td>127.95</td>\n",
       "      <td>125.05</td>\n",
       "      <td>127.05</td>\n",
       "      <td>127.10</td>\n",
       "      <td>126.78</td>\n",
       "      <td>6436133</td>\n",
       "      <td>8.159846e+13</td>\n",
       "      <td>33242</td>\n",
       "      <td>2885483</td>\n",
       "      <td>0.4483</td>\n",
       "    </tr>\n",
       "    <tr>\n",
       "      <th>2017-01-05</th>\n",
       "      <td>BHEL</td>\n",
       "      <td>EQ</td>\n",
       "      <td>127.10</td>\n",
       "      <td>127.25</td>\n",
       "      <td>128.55</td>\n",
       "      <td>126.15</td>\n",
       "      <td>128.15</td>\n",
       "      <td>127.95</td>\n",
       "      <td>127.67</td>\n",
       "      <td>4042940</td>\n",
       "      <td>5.161455e+13</td>\n",
       "      <td>31518</td>\n",
       "      <td>1542984</td>\n",
       "      <td>0.3816</td>\n",
       "    </tr>\n",
       "    <tr>\n",
       "      <th>2017-01-06</th>\n",
       "      <td>BHEL</td>\n",
       "      <td>EQ</td>\n",
       "      <td>127.95</td>\n",
       "      <td>127.40</td>\n",
       "      <td>128.50</td>\n",
       "      <td>126.10</td>\n",
       "      <td>126.60</td>\n",
       "      <td>126.40</td>\n",
       "      <td>127.12</td>\n",
       "      <td>4221178</td>\n",
       "      <td>5.365979e+13</td>\n",
       "      <td>26691</td>\n",
       "      <td>1471720</td>\n",
       "      <td>0.3487</td>\n",
       "    </tr>\n",
       "  </tbody>\n",
       "</table>\n",
       "</div>"
      ],
      "text/plain": [
       "           Symbol Series  Prev Close    Open    High     Low    Last   Close  \\\n",
       "Date                                                                           \n",
       "2017-01-02   BHEL     EQ      121.20  121.20  123.30  120.70  122.45  122.50   \n",
       "2017-01-03   BHEL     EQ      122.50  122.75  126.25  122.60  125.00  124.80   \n",
       "2017-01-04   BHEL     EQ      124.80  125.05  127.95  125.05  127.05  127.10   \n",
       "2017-01-05   BHEL     EQ      127.10  127.25  128.55  126.15  128.15  127.95   \n",
       "2017-01-06   BHEL     EQ      127.95  127.40  128.50  126.10  126.60  126.40   \n",
       "\n",
       "              VWAP   Volume      Turnover  Trades  Deliverable Volume  \\\n",
       "Date                                                                    \n",
       "2017-01-02  122.44  3236619  3.962869e+13   17338              579201   \n",
       "2017-01-03  125.00  5189549  6.487066e+13   28322             1376396   \n",
       "2017-01-04  126.78  6436133  8.159846e+13   33242             2885483   \n",
       "2017-01-05  127.67  4042940  5.161455e+13   31518             1542984   \n",
       "2017-01-06  127.12  4221178  5.365979e+13   26691             1471720   \n",
       "\n",
       "            %Deliverble  \n",
       "Date                     \n",
       "2017-01-02       0.1790  \n",
       "2017-01-03       0.2652  \n",
       "2017-01-04       0.4483  \n",
       "2017-01-05       0.3816  \n",
       "2017-01-06       0.3487  "
      ]
     },
     "execution_count": 4,
     "metadata": {},
     "output_type": "execute_result"
    }
   ],
   "source": [
    "data.head()"
   ]
  },
  {
   "cell_type": "code",
   "execution_count": 5,
   "metadata": {},
   "outputs": [
    {
     "data": {
      "text/plain": [
       "<AxesSubplot:xlabel='Date'>"
      ]
     },
     "execution_count": 5,
     "metadata": {},
     "output_type": "execute_result"
    },
    {
     "data": {
      "image/png": "[encoded data removed]",
      "text/plain": [
       "<Figure size 432x288 with 1 Axes>"
      ]
     },
     "metadata": {
      "needs_background": "light"
     },
     "output_type": "display_data"
    }
   ],
   "source": [
    "data[['Close']].plot()"
   ]
  }
 ],
 "metadata": {
  "kernelspec": {
   "display_name": "Python 3",
   "language": "python",
   "name": "python3"
  },
  "language_info": {
   "codemirror_mode": {
    "name": "ipython",
    "version": 3
   },
   "file_extension": ".py",
   "mimetype": "text/x-python",
   "name": "python",
   "nbconvert_exporter": "python",
   "pygments_lexer": "ipython3",
   "version": "3.8.5"
  }
 },
 "nbformat": 4,
 "nbformat_minor": 4
}
