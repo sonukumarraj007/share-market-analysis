{
 "cells": [
  {
   "cell_type": "code",
   "execution_count": 27,
   "metadata": {},
   "outputs": [],
   "source": [
    "import yfinance as yf"
   ]
  },
  {
   "cell_type": "code",
   "execution_count": 28,
   "metadata": {},
   "outputs": [],
   "source": [
    "smybol= yf.Ticker(\"PNB.NS\")"
   ]
  },
  {
   "cell_type": "code",
   "execution_count": 29,
   "metadata": {},
   "outputs": [],
   "source": [
    "data = smybol.history(start=\"2021-5-25\", end=\"2021-5-26\", interval=\"5m\")"
   ]
  },
  {
   "cell_type": "code",
   "execution_count": 30,
   "metadata": {},
   "outputs": [
    {
     "data": {
      "text/html": [
       "<div>\n",
       "<style scoped>\n",
       "    .dataframe tbody tr th:only-of-type {\n",
       "        vertical-align: middle;\n",
       "    }\n",
       "\n",
       "    .dataframe tbody tr th {\n",
       "        vertical-align: top;\n",
       "    }\n",
       "\n",
       "    .dataframe thead th {\n",
       "        text-align: right;\n",
       "    }\n",
       "</style>\n",
       "<table border=\"1\" class=\"dataframe\">\n",
       "  <thead>\n",
       "    <tr style=\"text-align: right;\">\n",
       "      <th></th>\n",
       "      <th>Open</th>\n",
       "      <th>High</th>\n",
       "      <th>Low</th>\n",
       "      <th>Close</th>\n",
       "      <th>Volume</th>\n",
       "      <th>Dividends</th>\n",
       "      <th>Stock Splits</th>\n",
       "    </tr>\n",
       "    <tr>\n",
       "      <th>Datetime</th>\n",
       "      <th></th>\n",
       "      <th></th>\n",
       "      <th></th>\n",
       "      <th></th>\n",
       "      <th></th>\n",
       "      <th></th>\n",
       "      <th></th>\n",
       "    </tr>\n",
       "  </thead>\n",
       "  <tbody>\n",
       "    <tr>\n",
       "      <th>2021-05-25 09:15:00+05:30</th>\n",
       "      <td>40.400002</td>\n",
       "      <td>40.500000</td>\n",
       "      <td>40.099998</td>\n",
       "      <td>40.150002</td>\n",
       "      <td>0</td>\n",
       "      <td>0</td>\n",
       "      <td>0</td>\n",
       "    </tr>\n",
       "    <tr>\n",
       "      <th>2021-05-25 09:20:00+05:30</th>\n",
       "      <td>40.150002</td>\n",
       "      <td>40.250000</td>\n",
       "      <td>40.049999</td>\n",
       "      <td>40.049999</td>\n",
       "      <td>7608363</td>\n",
       "      <td>0</td>\n",
       "      <td>0</td>\n",
       "    </tr>\n",
       "    <tr>\n",
       "      <th>2021-05-25 09:25:00+05:30</th>\n",
       "      <td>40.049999</td>\n",
       "      <td>40.099998</td>\n",
       "      <td>39.799999</td>\n",
       "      <td>39.950001</td>\n",
       "      <td>8305283</td>\n",
       "      <td>0</td>\n",
       "      <td>0</td>\n",
       "    </tr>\n",
       "    <tr>\n",
       "      <th>2021-05-25 09:30:00+05:30</th>\n",
       "      <td>39.900002</td>\n",
       "      <td>39.950001</td>\n",
       "      <td>39.700001</td>\n",
       "      <td>39.700001</td>\n",
       "      <td>4471208</td>\n",
       "      <td>0</td>\n",
       "      <td>0</td>\n",
       "    </tr>\n",
       "    <tr>\n",
       "      <th>2021-05-25 09:35:00+05:30</th>\n",
       "      <td>39.700001</td>\n",
       "      <td>40.000000</td>\n",
       "      <td>39.599998</td>\n",
       "      <td>40.000000</td>\n",
       "      <td>6786852</td>\n",
       "      <td>0</td>\n",
       "      <td>0</td>\n",
       "    </tr>\n",
       "    <tr>\n",
       "      <th>...</th>\n",
       "      <td>...</td>\n",
       "      <td>...</td>\n",
       "      <td>...</td>\n",
       "      <td>...</td>\n",
       "      <td>...</td>\n",
       "      <td>...</td>\n",
       "      <td>...</td>\n",
       "    </tr>\n",
       "    <tr>\n",
       "      <th>2021-05-25 15:05:00+05:30</th>\n",
       "      <td>39.500000</td>\n",
       "      <td>39.500000</td>\n",
       "      <td>39.349998</td>\n",
       "      <td>39.400002</td>\n",
       "      <td>3470911</td>\n",
       "      <td>0</td>\n",
       "      <td>0</td>\n",
       "    </tr>\n",
       "    <tr>\n",
       "      <th>2021-05-25 15:10:00+05:30</th>\n",
       "      <td>39.400002</td>\n",
       "      <td>39.400002</td>\n",
       "      <td>39.250000</td>\n",
       "      <td>39.400002</td>\n",
       "      <td>4751553</td>\n",
       "      <td>0</td>\n",
       "      <td>0</td>\n",
       "    </tr>\n",
       "    <tr>\n",
       "      <th>2021-05-25 15:15:00+05:30</th>\n",
       "      <td>39.400002</td>\n",
       "      <td>39.400002</td>\n",
       "      <td>39.250000</td>\n",
       "      <td>39.299999</td>\n",
       "      <td>3944308</td>\n",
       "      <td>0</td>\n",
       "      <td>0</td>\n",
       "    </tr>\n",
       "    <tr>\n",
       "      <th>2021-05-25 15:20:00+05:30</th>\n",
       "      <td>39.349998</td>\n",
       "      <td>39.349998</td>\n",
       "      <td>39.250000</td>\n",
       "      <td>39.349998</td>\n",
       "      <td>4129723</td>\n",
       "      <td>0</td>\n",
       "      <td>0</td>\n",
       "    </tr>\n",
       "    <tr>\n",
       "      <th>2021-05-25 15:25:00+05:30</th>\n",
       "      <td>39.349998</td>\n",
       "      <td>39.450001</td>\n",
       "      <td>39.349998</td>\n",
       "      <td>39.400002</td>\n",
       "      <td>3828621</td>\n",
       "      <td>0</td>\n",
       "      <td>0</td>\n",
       "    </tr>\n",
       "  </tbody>\n",
       "</table>\n",
       "<p>75 rows × 7 columns</p>\n",
       "</div>"
      ],
      "text/plain": [
       "                                Open       High        Low      Close  \\\n",
       "Datetime                                                                \n",
       "2021-05-25 09:15:00+05:30  40.400002  40.500000  40.099998  40.150002   \n",
       "2021-05-25 09:20:00+05:30  40.150002  40.250000  40.049999  40.049999   \n",
       "2021-05-25 09:25:00+05:30  40.049999  40.099998  39.799999  39.950001   \n",
       "2021-05-25 09:30:00+05:30  39.900002  39.950001  39.700001  39.700001   \n",
       "2021-05-25 09:35:00+05:30  39.700001  40.000000  39.599998  40.000000   \n",
       "...                              ...        ...        ...        ...   \n",
       "2021-05-25 15:05:00+05:30  39.500000  39.500000  39.349998  39.400002   \n",
       "2021-05-25 15:10:00+05:30  39.400002  39.400002  39.250000  39.400002   \n",
       "2021-05-25 15:15:00+05:30  39.400002  39.400002  39.250000  39.299999   \n",
       "2021-05-25 15:20:00+05:30  39.349998  39.349998  39.250000  39.349998   \n",
       "2021-05-25 15:25:00+05:30  39.349998  39.450001  39.349998  39.400002   \n",
       "\n",
       "                            Volume  Dividends  Stock Splits  \n",
       "Datetime                                                     \n",
       "2021-05-25 09:15:00+05:30        0          0             0  \n",
       "2021-05-25 09:20:00+05:30  7608363          0             0  \n",
       "2021-05-25 09:25:00+05:30  8305283          0             0  \n",
       "2021-05-25 09:30:00+05:30  4471208          0             0  \n",
       "2021-05-25 09:35:00+05:30  6786852          0             0  \n",
       "...                            ...        ...           ...  \n",
       "2021-05-25 15:05:00+05:30  3470911          0             0  \n",
       "2021-05-25 15:10:00+05:30  4751553          0             0  \n",
       "2021-05-25 15:15:00+05:30  3944308          0             0  \n",
       "2021-05-25 15:20:00+05:30  4129723          0             0  \n",
       "2021-05-25 15:25:00+05:30  3828621          0             0  \n",
       "\n",
       "[75 rows x 7 columns]"
      ]
     },
     "execution_count": 30,
     "metadata": {},
     "output_type": "execute_result"
    }
   ],
   "source": [
    "data"
   ]
  },
  {
   "cell_type": "code",
   "execution_count": 32,
   "metadata": {},
   "outputs": [
    {
     "data": {
      "text/plain": [
       "count    75.000000\n",
       "mean     39.600667\n",
       "std       0.165932\n",
       "min      39.299999\n",
       "25%      39.450001\n",
       "50%      39.599998\n",
       "75%      39.700001\n",
       "max      40.150002\n",
       "Name: Close, dtype: float64"
      ]
     },
     "execution_count": 32,
     "metadata": {},
     "output_type": "execute_result"
    }
   ],
   "source": [
    "data['Close'].describe()"
   ]
  },
  {
   "cell_type": "code",
   "execution_count": 33,
   "metadata": {},
   "outputs": [
    {
     "data": {
      "text/plain": [
       "39.60066685994466"
      ]
     },
     "execution_count": 33,
     "metadata": {},
     "output_type": "execute_result"
    }
   ],
   "source": [
    "data['Close'].mean()"
   ]
  },
  {
   "cell_type": "code",
   "execution_count": null,
   "metadata": {},
   "outputs": [],
   "source": []
  }
 ],
 "metadata": {
  "kernelspec": {
   "display_name": "Python 3",
   "language": "python",
   "name": "python3"
  },
  "language_info": {
   "codemirror_mode": {
    "name": "ipython",
    "version": 3
   },
   "file_extension": ".py",
   "mimetype": "text/x-python",
   "name": "python",
   "nbconvert_exporter": "python",
   "pygments_lexer": "ipython3",
   "version": "3.8.5"
  }
 },
 "nbformat": 4,
 "nbformat_minor": 4
}
