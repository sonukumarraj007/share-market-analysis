{
 "cells": [
  {
   "cell_type": "code",
   "execution_count": 18,
   "metadata": {},
   "outputs": [],
   "source": [
    "import pandas as pd\n",
    "from stocktrends import indicators"
   ]
  },
  {
   "cell_type": "code",
   "execution_count": 19,
   "metadata": {},
   "outputs": [],
   "source": [
    "df = pd.read_csv('tests/HDFCLIFE.csv')"
   ]
  },
  {
   "cell_type": "code",
   "execution_count": 20,
   "metadata": {},
   "outputs": [
    {
     "data": {
      "text/plain": [
       "879"
      ]
     },
     "execution_count": 20,
     "metadata": {},
     "output_type": "execute_result"
    }
   ],
   "source": [
    "len(df)"
   ]
  },
  {
   "cell_type": "code",
   "execution_count": 21,
   "metadata": {},
   "outputs": [
    {
     "data": {
      "text/html": [
       "<div>\n",
       "<style scoped>\n",
       "    .dataframe tbody tr th:only-of-type {\n",
       "        vertical-align: middle;\n",
       "    }\n",
       "\n",
       "    .dataframe tbody tr th {\n",
       "        vertical-align: top;\n",
       "    }\n",
       "\n",
       "    .dataframe thead th {\n",
       "        text-align: right;\n",
       "    }\n",
       "</style>\n",
       "<table border=\"1\" class=\"dataframe\">\n",
       "  <thead>\n",
       "    <tr style=\"text-align: right;\">\n",
       "      <th></th>\n",
       "      <th>DATE</th>\n",
       "      <th>SERIES</th>\n",
       "      <th>OPEN</th>\n",
       "      <th>HIGH</th>\n",
       "      <th>LOW</th>\n",
       "      <th>PREV. CLOSE</th>\n",
       "      <th>LTP</th>\n",
       "      <th>CLOSE</th>\n",
       "      <th>VWAP</th>\n",
       "      <th>52W H</th>\n",
       "      <th>52W L</th>\n",
       "      <th>VOLUME</th>\n",
       "      <th>VALUE</th>\n",
       "      <th>NO OF TRADES</th>\n",
       "      <th>SYMBOL</th>\n",
       "    </tr>\n",
       "  </thead>\n",
       "  <tbody>\n",
       "    <tr>\n",
       "      <th>0</th>\n",
       "      <td>2021-06-08</td>\n",
       "      <td>EQ</td>\n",
       "      <td>684.05</td>\n",
       "      <td>692.00</td>\n",
       "      <td>681.0</td>\n",
       "      <td>680.10</td>\n",
       "      <td>691.50</td>\n",
       "      <td>689.70</td>\n",
       "      <td>687.22</td>\n",
       "      <td>746.0</td>\n",
       "      <td>486.25</td>\n",
       "      <td>3425861</td>\n",
       "      <td>2.354315e+09</td>\n",
       "      <td>76891</td>\n",
       "      <td>HDFCLIFE</td>\n",
       "    </tr>\n",
       "    <tr>\n",
       "      <th>1</th>\n",
       "      <td>2021-06-07</td>\n",
       "      <td>EQ</td>\n",
       "      <td>682.30</td>\n",
       "      <td>684.50</td>\n",
       "      <td>675.0</td>\n",
       "      <td>680.90</td>\n",
       "      <td>680.20</td>\n",
       "      <td>680.10</td>\n",
       "      <td>678.70</td>\n",
       "      <td>746.0</td>\n",
       "      <td>486.25</td>\n",
       "      <td>1746210</td>\n",
       "      <td>1.185160e+09</td>\n",
       "      <td>42592</td>\n",
       "      <td>HDFCLIFE</td>\n",
       "    </tr>\n",
       "    <tr>\n",
       "      <th>2</th>\n",
       "      <td>2021-06-04</td>\n",
       "      <td>EQ</td>\n",
       "      <td>678.75</td>\n",
       "      <td>688.75</td>\n",
       "      <td>677.6</td>\n",
       "      <td>678.45</td>\n",
       "      <td>680.70</td>\n",
       "      <td>680.90</td>\n",
       "      <td>683.61</td>\n",
       "      <td>746.0</td>\n",
       "      <td>486.25</td>\n",
       "      <td>2532605</td>\n",
       "      <td>1.731314e+09</td>\n",
       "      <td>58539</td>\n",
       "      <td>HDFCLIFE</td>\n",
       "    </tr>\n",
       "    <tr>\n",
       "      <th>3</th>\n",
       "      <td>2021-06-03</td>\n",
       "      <td>EQ</td>\n",
       "      <td>679.75</td>\n",
       "      <td>683.30</td>\n",
       "      <td>676.6</td>\n",
       "      <td>675.90</td>\n",
       "      <td>678.95</td>\n",
       "      <td>678.45</td>\n",
       "      <td>680.18</td>\n",
       "      <td>746.0</td>\n",
       "      <td>486.25</td>\n",
       "      <td>2861563</td>\n",
       "      <td>1.946364e+09</td>\n",
       "      <td>69548</td>\n",
       "      <td>HDFCLIFE</td>\n",
       "    </tr>\n",
       "    <tr>\n",
       "      <th>4</th>\n",
       "      <td>2021-06-02</td>\n",
       "      <td>EQ</td>\n",
       "      <td>664.00</td>\n",
       "      <td>677.95</td>\n",
       "      <td>662.9</td>\n",
       "      <td>665.25</td>\n",
       "      <td>676.25</td>\n",
       "      <td>675.90</td>\n",
       "      <td>671.74</td>\n",
       "      <td>746.0</td>\n",
       "      <td>486.25</td>\n",
       "      <td>4979822</td>\n",
       "      <td>3.345158e+09</td>\n",
       "      <td>89025</td>\n",
       "      <td>HDFCLIFE</td>\n",
       "    </tr>\n",
       "  </tbody>\n",
       "</table>\n",
       "</div>"
      ],
      "text/plain": [
       "         DATE SERIES    OPEN    HIGH    LOW  PREV. CLOSE     LTP   CLOSE  \\\n",
       "0  2021-06-08     EQ  684.05  692.00  681.0       680.10  691.50  689.70   \n",
       "1  2021-06-07     EQ  682.30  684.50  675.0       680.90  680.20  680.10   \n",
       "2  2021-06-04     EQ  678.75  688.75  677.6       678.45  680.70  680.90   \n",
       "3  2021-06-03     EQ  679.75  683.30  676.6       675.90  678.95  678.45   \n",
       "4  2021-06-02     EQ  664.00  677.95  662.9       665.25  676.25  675.90   \n",
       "\n",
       "     VWAP  52W H   52W L   VOLUME         VALUE  NO OF TRADES    SYMBOL  \n",
       "0  687.22  746.0  486.25  3425861  2.354315e+09         76891  HDFCLIFE  \n",
       "1  678.70  746.0  486.25  1746210  1.185160e+09         42592  HDFCLIFE  \n",
       "2  683.61  746.0  486.25  2532605  1.731314e+09         58539  HDFCLIFE  \n",
       "3  680.18  746.0  486.25  2861563  1.946364e+09         69548  HDFCLIFE  \n",
       "4  671.74  746.0  486.25  4979822  3.345158e+09         89025  HDFCLIFE  "
      ]
     },
     "execution_count": 21,
     "metadata": {},
     "output_type": "execute_result"
    }
   ],
   "source": [
    "df.head()"
   ]
  },
  {
   "cell_type": "code",
   "execution_count": 22,
   "metadata": {},
   "outputs": [],
   "source": [
    "df.columns = [i.lower() for i in df.columns]\n",
    "rows = 15"
   ]
  },
  {
   "cell_type": "code",
   "execution_count": 23,
   "metadata": {},
   "outputs": [],
   "source": [
    "pnf = indicators.PnF(df)\n",
    "pnf.box_size = 10\n",
    "pnf.reversal_size = 3"
   ]
  },
  {
   "cell_type": "code",
   "execution_count": 24,
   "metadata": {},
   "outputs": [
    {
     "name": "stdout",
     "output_type": "stream",
     "text": [
      "PnF BAR data - based on \"close\" column\n",
      "          date   open  close   high    low\n",
      "0   2021-04-26  680.0  700.0  700.0  680.0\n",
      "1   2021-04-19  690.0  670.0  690.0  670.0\n",
      "2   2021-04-13  680.0  700.0  700.0  680.0\n",
      "3   2021-03-25  690.0  670.0  690.0  670.0\n",
      "4   2021-03-16  680.0  740.0  740.0  680.0\n",
      "5   2021-03-01  730.0  680.0  730.0  680.0\n",
      "6   2021-01-13  690.0  720.0  720.0  690.0\n",
      "7   2021-01-01  710.0  630.0  710.0  630.0\n",
      "8   2020-12-11  640.0  670.0  670.0  640.0\n",
      "9   2020-11-14  660.0  560.0  660.0  560.0\n",
      "10  2020-09-17  570.0  640.0  640.0  570.0\n",
      "11  2020-07-22  630.0  470.0  630.0  470.0\n",
      "12  2020-05-13  480.0  520.0  520.0  480.0\n",
      "13  2020-05-05  510.0  460.0  510.0  460.0\n",
      "14  2020-04-22  470.0  500.0  500.0  470.0\n"
     ]
    }
   ],
   "source": [
    "print('PnF BAR data - based on \"close\" column')\n",
    "data = pnf.get_bar_ohlc_data(source='close')\n",
    "print(data.head(rows))"
   ]
  },
  {
   "cell_type": "code",
   "execution_count": 25,
   "metadata": {},
   "outputs": [
    {
     "name": "stdout",
     "output_type": "stream",
     "text": [
      "PnF BOX data - based on \"close\" column\n",
      "          date  open  high  low  close  uptrend\n",
      "0   2021-04-26   680   690  680    690     True\n",
      "1   2021-04-26   690   700  690    700     True\n",
      "2   2021-04-19   690   690  680    680    False\n",
      "3   2021-04-19   680   680  670    670    False\n",
      "4   2021-04-13   680   690  680    690     True\n",
      "5   2021-04-13   690   700  690    700     True\n",
      "6   2021-03-25   690   690  680    680    False\n",
      "7   2021-03-25   680   680  670    670    False\n",
      "8   2021-03-16   680   690  680    690     True\n",
      "9   2021-03-16   690   700  690    700     True\n",
      "10  2021-03-12   700   710  700    710     True\n",
      "11  2021-03-10   710   720  710    720     True\n",
      "12  2021-03-10   720   730  720    730     True\n",
      "13  2021-03-09   730   740  730    740     True\n",
      "14  2021-03-01   730   730  720    720    False\n"
     ]
    }
   ],
   "source": [
    "print('PnF BOX data - based on \"close\" column')\n",
    "pnf_data = pnf.get_ohlc_data(source='close')\n",
    "print(pnf_data.head(rows))"
   ]
  },
  {
   "cell_type": "code",
   "execution_count": 26,
   "metadata": {},
   "outputs": [
    {
     "name": "stdout",
     "output_type": "stream",
     "text": [
      "PnF BOX data - based on \"high\"/\"low\" columns\n",
      "          date   open  close   high    low\n",
      "0   2021-06-08  680.0  710.0  710.0  680.0\n",
      "1   2021-03-26  700.0  670.0  700.0  670.0\n",
      "2   2021-03-16  680.0  740.0  740.0  680.0\n",
      "3   2021-02-16  730.0  670.0  730.0  670.0\n",
      "4   2021-01-20  680.0  730.0  730.0  680.0\n",
      "5   2021-01-04  720.0  620.0  720.0  620.0\n",
      "6   2020-12-17  630.0  680.0  680.0  630.0\n",
      "7   2020-11-14  670.0  560.0  670.0  560.0\n",
      "8   2020-09-16  570.0  640.0  640.0  570.0\n",
      "9   2020-07-16  630.0  470.0  630.0  470.0\n",
      "10  2020-05-13  480.0  530.0  530.0  480.0\n",
      "11  2020-05-06  520.0  460.0  520.0  460.0\n",
      "12  2020-04-22  470.0  510.0  510.0  470.0\n",
      "13  2020-04-07  500.0  410.0  500.0  410.0\n",
      "14  2020-03-27  420.0  480.0  480.0  420.0\n"
     ]
    }
   ],
   "source": [
    "print('PnF BOX data - based on \"high\"/\"low\" columns')\n",
    "data = pnf.get_bar_ohlc_data(source='hl')\n",
    "print(data.head(rows))"
   ]
  },
  {
   "cell_type": "code",
   "execution_count": 27,
   "metadata": {},
   "outputs": [],
   "source": [
    "renko = indicators.Renko(df)"
   ]
  },
  {
   "cell_type": "code",
   "execution_count": 28,
   "metadata": {},
   "outputs": [
    {
     "name": "stdout",
     "output_type": "stream",
     "text": [
      "Renko box calcuation based on periodic close\n",
      "            date   open   high    low  close  uptrend\n",
      "2562  2017-11-20  376.0  376.0  374.0  374.0    False\n",
      "2563  2017-11-20  374.0  374.0  372.0  372.0    False\n",
      "2564  2017-11-20  372.0  372.0  370.0  370.0    False\n",
      "2565  2017-11-20  370.0  370.0  368.0  368.0    False\n",
      "2566  2017-11-20  368.0  368.0  366.0  366.0    False\n",
      "2567  2017-11-20  366.0  366.0  364.0  364.0    False\n",
      "2568  2017-11-20  364.0  364.0  362.0  362.0    False\n",
      "2569  2017-11-20  362.0  362.0  360.0  360.0    False\n",
      "2570  2017-11-20  360.0  360.0  358.0  358.0    False\n",
      "2571  2017-11-20  358.0  358.0  356.0  356.0    False\n",
      "2572  2017-11-17  356.0  356.0  354.0  354.0    False\n",
      "2573  2017-11-17  354.0  354.0  352.0  352.0    False\n",
      "2574  2017-11-17  352.0  352.0  350.0  350.0    False\n",
      "2575  2017-11-17  350.0  350.0  348.0  348.0    False\n",
      "2576  2017-11-17  348.0  348.0  346.0  346.0    False\n"
     ]
    }
   ],
   "source": [
    "print('Renko box calcuation based on periodic close')\n",
    "renko.brick_size = 2\n",
    "renko.chart_type = indicators.Renko.PERIOD_CLOSE\n",
    "data = renko.get_ohlc_data()\n",
    "print(data.tail(rows))"
   ]
  },
  {
   "cell_type": "code",
   "execution_count": 34,
   "metadata": {},
   "outputs": [
    {
     "name": "stdout",
     "output_type": "stream",
     "text": [
      "Renko box calcuation based on price movement\n",
      "          date   open   high    low  close  uptrend\n",
      "0   2021-06-08  686.0  688.0  686.0  688.0     True\n",
      "1   2021-06-07  686.0  686.0  684.0  684.0    False\n",
      "2   2021-06-07  684.0  684.0  682.0  682.0    False\n",
      "3   2021-06-03  682.0  682.0  680.0  680.0    False\n",
      "4   2021-06-02  680.0  680.0  678.0  678.0    False\n",
      "5   2021-06-02  678.0  678.0  676.0  676.0    False\n",
      "6   2021-06-01  676.0  676.0  674.0  674.0    False\n",
      "7   2021-06-01  674.0  674.0  672.0  672.0    False\n",
      "8   2021-06-01  672.0  672.0  670.0  670.0    False\n",
      "9   2021-06-01  670.0  670.0  668.0  668.0    False\n",
      "10  2021-06-01  668.0  668.0  666.0  666.0    False\n",
      "11  2021-05-26  666.0  666.0  664.0  664.0    False\n",
      "12  2021-05-26  664.0  664.0  662.0  662.0    False\n",
      "13  2021-05-26  662.0  662.0  660.0  660.0    False\n",
      "14  2021-05-24  662.0  664.0  662.0  664.0     True\n"
     ]
    }
   ],
   "source": [
    "print('Renko box calcuation based on price movement')\n",
    "renko.chart_type = indicators.Renko.PRICE_MOVEMENT\n",
    "data = renko.get_ohlc_data()\n",
    "print(data.head(rows))"
   ]
  },
  {
   "cell_type": "code",
   "execution_count": 30,
   "metadata": {},
   "outputs": [],
   "source": [
    "lb = indicators.LineBreak(df)"
   ]
  },
  {
   "cell_type": "code",
   "execution_count": 31,
   "metadata": {},
   "outputs": [
    {
     "name": "stdout",
     "output_type": "stream",
     "text": [
      "Line break chart\n"
     ]
    }
   ],
   "source": [
    "print('Line break chart')"
   ]
  },
  {
   "cell_type": "code",
   "execution_count": 32,
   "metadata": {},
   "outputs": [],
   "source": [
    "lb.line_number = 3\n",
    "data = lb.get_ohlc_data()"
   ]
  },
  {
   "cell_type": "code",
   "execution_count": 35,
   "metadata": {},
   "outputs": [
    {
     "name": "stdout",
     "output_type": "stream",
     "text": [
      "          date   open   high    low  close  uptrend\n",
      "0   2021-06-08  686.0  688.0  686.0  688.0     True\n",
      "1   2021-06-07  686.0  686.0  684.0  684.0    False\n",
      "2   2021-06-07  684.0  684.0  682.0  682.0    False\n",
      "3   2021-06-03  682.0  682.0  680.0  680.0    False\n",
      "4   2021-06-02  680.0  680.0  678.0  678.0    False\n",
      "5   2021-06-02  678.0  678.0  676.0  676.0    False\n",
      "6   2021-06-01  676.0  676.0  674.0  674.0    False\n",
      "7   2021-06-01  674.0  674.0  672.0  672.0    False\n",
      "8   2021-06-01  672.0  672.0  670.0  670.0    False\n",
      "9   2021-06-01  670.0  670.0  668.0  668.0    False\n",
      "10  2021-06-01  668.0  668.0  666.0  666.0    False\n",
      "11  2021-05-26  666.0  666.0  664.0  664.0    False\n",
      "12  2021-05-26  664.0  664.0  662.0  662.0    False\n",
      "13  2021-05-26  662.0  662.0  660.0  660.0    False\n",
      "14  2021-05-24  662.0  664.0  662.0  664.0     True\n"
     ]
    }
   ],
   "source": [
    "print(data.head(rows))"
   ]
  },
  {
   "cell_type": "code",
   "execution_count": null,
   "metadata": {},
   "outputs": [],
   "source": []
  },
  {
   "cell_type": "code",
   "execution_count": null,
   "metadata": {},
   "outputs": [],
   "source": []
  },
  {
   "cell_type": "code",
   "execution_count": null,
   "metadata": {},
   "outputs": [],
   "source": []
  }
 ],
 "metadata": {
  "kernelspec": {
   "display_name": "Python 3",
   "language": "python",
   "name": "python3"
  },
  "language_info": {
   "codemirror_mode": {
    "name": "ipython",
    "version": 3
   },
   "file_extension": ".py",
   "mimetype": "text/x-python",
   "name": "python",
   "nbconvert_exporter": "python",
   "pygments_lexer": "ipython3",
   "version": "3.8.5"
  }
 },
 "nbformat": 4,
 "nbformat_minor": 4
}
