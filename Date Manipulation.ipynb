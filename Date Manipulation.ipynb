{
 "cells": [
  {
   "cell_type": "code",
   "execution_count": 1,
   "metadata": {},
   "outputs": [],
   "source": [
    "import pandas as pd\n",
    "from nsepy import get_history\n",
    "from datetime import date\n",
    "import datetime as dt"
   ]
  },
  {
   "cell_type": "code",
   "execution_count": 2,
   "metadata": {},
   "outputs": [],
   "source": [
    "import datetime\n",
    "from dateutil.relativedelta import relativedelta"
   ]
  },
  {
   "cell_type": "code",
   "execution_count": 3,
   "metadata": {},
   "outputs": [],
   "source": [
    "company_name = 'RELIANCE'"
   ]
  },
  {
   "cell_type": "code",
   "execution_count": 4,
   "metadata": {},
   "outputs": [
    {
     "name": "stdout",
     "output_type": "stream",
     "text": [
      "2021-12-18\n"
     ]
    }
   ],
   "source": [
    "end_date = datetime.date.today()\n",
    "start_date = end_date + relativedelta(days=-7)\n",
    "print(start_date)"
   ]
  },
  {
   "cell_type": "code",
   "execution_count": 5,
   "metadata": {},
   "outputs": [],
   "source": [
    " data = get_history(symbol=company_name, start=start_date, end=end_date)"
   ]
  },
  {
   "cell_type": "code",
   "execution_count": 6,
   "metadata": {},
   "outputs": [
    {
     "data": {
      "text/html": [
       "<div>\n",
       "<style scoped>\n",
       "    .dataframe tbody tr th:only-of-type {\n",
       "        vertical-align: middle;\n",
       "    }\n",
       "\n",
       "    .dataframe tbody tr th {\n",
       "        vertical-align: top;\n",
       "    }\n",
       "\n",
       "    .dataframe thead th {\n",
       "        text-align: right;\n",
       "    }\n",
       "</style>\n",
       "<table border=\"1\" class=\"dataframe\">\n",
       "  <thead>\n",
       "    <tr style=\"text-align: right;\">\n",
       "      <th></th>\n",
       "      <th>Symbol</th>\n",
       "      <th>Series</th>\n",
       "      <th>Prev Close</th>\n",
       "      <th>Open</th>\n",
       "      <th>High</th>\n",
       "      <th>Low</th>\n",
       "      <th>Last</th>\n",
       "      <th>Close</th>\n",
       "      <th>VWAP</th>\n",
       "      <th>Volume</th>\n",
       "      <th>Turnover</th>\n",
       "      <th>Trades</th>\n",
       "      <th>Deliverable Volume</th>\n",
       "      <th>%Deliverble</th>\n",
       "    </tr>\n",
       "    <tr>\n",
       "      <th>Date</th>\n",
       "      <th></th>\n",
       "      <th></th>\n",
       "      <th></th>\n",
       "      <th></th>\n",
       "      <th></th>\n",
       "      <th></th>\n",
       "      <th></th>\n",
       "      <th></th>\n",
       "      <th></th>\n",
       "      <th></th>\n",
       "      <th></th>\n",
       "      <th></th>\n",
       "      <th></th>\n",
       "      <th></th>\n",
       "    </tr>\n",
       "  </thead>\n",
       "  <tbody>\n",
       "    <tr>\n",
       "      <th>2021-12-20</th>\n",
       "      <td>RELIANCE</td>\n",
       "      <td>EQ</td>\n",
       "      <td>2340.45</td>\n",
       "      <td>2317.85</td>\n",
       "      <td>2317.85</td>\n",
       "      <td>2247.10</td>\n",
       "      <td>2276.80</td>\n",
       "      <td>2277.35</td>\n",
       "      <td>2277.67</td>\n",
       "      <td>6611376</td>\n",
       "      <td>1.505851e+15</td>\n",
       "      <td>331211</td>\n",
       "      <td>3744186</td>\n",
       "      <td>0.5663</td>\n",
       "    </tr>\n",
       "    <tr>\n",
       "      <th>2021-12-21</th>\n",
       "      <td>RELIANCE</td>\n",
       "      <td>EQ</td>\n",
       "      <td>2277.35</td>\n",
       "      <td>2311.35</td>\n",
       "      <td>2346.00</td>\n",
       "      <td>2292.20</td>\n",
       "      <td>2313.00</td>\n",
       "      <td>2311.25</td>\n",
       "      <td>2317.69</td>\n",
       "      <td>5924071</td>\n",
       "      <td>1.373018e+15</td>\n",
       "      <td>241858</td>\n",
       "      <td>2954613</td>\n",
       "      <td>0.4987</td>\n",
       "    </tr>\n",
       "    <tr>\n",
       "      <th>2021-12-22</th>\n",
       "      <td>RELIANCE</td>\n",
       "      <td>EQ</td>\n",
       "      <td>2311.25</td>\n",
       "      <td>2324.90</td>\n",
       "      <td>2371.90</td>\n",
       "      <td>2322.00</td>\n",
       "      <td>2365.00</td>\n",
       "      <td>2366.10</td>\n",
       "      <td>2346.81</td>\n",
       "      <td>8149415</td>\n",
       "      <td>1.912513e+15</td>\n",
       "      <td>222615</td>\n",
       "      <td>5325994</td>\n",
       "      <td>0.6535</td>\n",
       "    </tr>\n",
       "    <tr>\n",
       "      <th>2021-12-23</th>\n",
       "      <td>RELIANCE</td>\n",
       "      <td>EQ</td>\n",
       "      <td>2366.10</td>\n",
       "      <td>2374.00</td>\n",
       "      <td>2380.00</td>\n",
       "      <td>2358.05</td>\n",
       "      <td>2365.00</td>\n",
       "      <td>2365.25</td>\n",
       "      <td>2367.28</td>\n",
       "      <td>4186912</td>\n",
       "      <td>9.911598e+14</td>\n",
       "      <td>173393</td>\n",
       "      <td>2364993</td>\n",
       "      <td>0.5649</td>\n",
       "    </tr>\n",
       "    <tr>\n",
       "      <th>2021-12-24</th>\n",
       "      <td>RELIANCE</td>\n",
       "      <td>EQ</td>\n",
       "      <td>2365.25</td>\n",
       "      <td>2370.00</td>\n",
       "      <td>2392.00</td>\n",
       "      <td>2337.55</td>\n",
       "      <td>2367.15</td>\n",
       "      <td>2372.80</td>\n",
       "      <td>2360.96</td>\n",
       "      <td>3639616</td>\n",
       "      <td>8.592981e+14</td>\n",
       "      <td>159321</td>\n",
       "      <td>1160672</td>\n",
       "      <td>0.3189</td>\n",
       "    </tr>\n",
       "  </tbody>\n",
       "</table>\n",
       "</div>"
      ],
      "text/plain": [
       "              Symbol Series  Prev Close     Open     High      Low     Last  \\\n",
       "Date                                                                          \n",
       "2021-12-20  RELIANCE     EQ     2340.45  2317.85  2317.85  2247.10  2276.80   \n",
       "2021-12-21  RELIANCE     EQ     2277.35  2311.35  2346.00  2292.20  2313.00   \n",
       "2021-12-22  RELIANCE     EQ     2311.25  2324.90  2371.90  2322.00  2365.00   \n",
       "2021-12-23  RELIANCE     EQ     2366.10  2374.00  2380.00  2358.05  2365.00   \n",
       "2021-12-24  RELIANCE     EQ     2365.25  2370.00  2392.00  2337.55  2367.15   \n",
       "\n",
       "              Close     VWAP   Volume      Turnover  Trades  \\\n",
       "Date                                                          \n",
       "2021-12-20  2277.35  2277.67  6611376  1.505851e+15  331211   \n",
       "2021-12-21  2311.25  2317.69  5924071  1.373018e+15  241858   \n",
       "2021-12-22  2366.10  2346.81  8149415  1.912513e+15  222615   \n",
       "2021-12-23  2365.25  2367.28  4186912  9.911598e+14  173393   \n",
       "2021-12-24  2372.80  2360.96  3639616  8.592981e+14  159321   \n",
       "\n",
       "            Deliverable Volume  %Deliverble  \n",
       "Date                                         \n",
       "2021-12-20             3744186       0.5663  \n",
       "2021-12-21             2954613       0.4987  \n",
       "2021-12-22             5325994       0.6535  \n",
       "2021-12-23             2364993       0.5649  \n",
       "2021-12-24             1160672       0.3189  "
      ]
     },
     "execution_count": 6,
     "metadata": {},
     "output_type": "execute_result"
    }
   ],
   "source": [
    "data.head()"
   ]
  },
  {
   "cell_type": "code",
   "execution_count": 7,
   "metadata": {},
   "outputs": [],
   "source": [
    "import datetime"
   ]
  },
  {
   "cell_type": "code",
   "execution_count": 8,
   "metadata": {},
   "outputs": [],
   "source": [
    "today = datetime.date.today()\n"
   ]
  },
  {
   "cell_type": "code",
   "execution_count": 9,
   "metadata": {},
   "outputs": [
    {
     "name": "stdout",
     "output_type": "stream",
     "text": [
      "2021-12-25\n"
     ]
    }
   ],
   "source": [
    "print(today)"
   ]
  },
  {
   "cell_type": "code",
   "execution_count": 10,
   "metadata": {},
   "outputs": [
    {
     "name": "stdout",
     "output_type": "stream",
     "text": [
      "ctime: Sat Dec 25 00:00:00 2021\n"
     ]
    }
   ],
   "source": [
    "print('ctime:', today.ctime())"
   ]
  },
  {
   "cell_type": "code",
   "execution_count": 11,
   "metadata": {},
   "outputs": [
    {
     "name": "stdout",
     "output_type": "stream",
     "text": [
      "Year: 2021\n"
     ]
    }
   ],
   "source": [
    "print('Year:', today.year)"
   ]
  },
  {
   "cell_type": "code",
   "execution_count": 12,
   "metadata": {},
   "outputs": [
    {
     "name": "stdout",
     "output_type": "stream",
     "text": [
      "Mon : 12\n"
     ]
    }
   ],
   "source": [
    "print ('Mon :', today.month)"
   ]
  },
  {
   "cell_type": "code",
   "execution_count": 13,
   "metadata": {},
   "outputs": [
    {
     "name": "stdout",
     "output_type": "stream",
     "text": [
      "Day : 25\n"
     ]
    }
   ],
   "source": [
    "print ('Day :', today.day)"
   ]
  },
  {
   "cell_type": "code",
   "execution_count": 14,
   "metadata": {},
   "outputs": [],
   "source": [
    "import datetime\n",
    "from dateutil.relativedelta import relativedelta"
   ]
  },
  {
   "cell_type": "code",
   "execution_count": 15,
   "metadata": {},
   "outputs": [
    {
     "data": {
      "text/plain": [
       "datetime.date(2021, 12, 25)"
      ]
     },
     "execution_count": 15,
     "metadata": {},
     "output_type": "execute_result"
    }
   ],
   "source": [
    "today = datetime.date.today()\n",
    "today"
   ]
  },
  {
   "cell_type": "code",
   "execution_count": 16,
   "metadata": {},
   "outputs": [
    {
     "name": "stdout",
     "output_type": "stream",
     "text": [
      "2021-05-31\n"
     ]
    }
   ],
   "source": [
    "# subtract months\n",
    "proc_dt = datetime.date(2021,8,31)\n",
    "proc_dt_minus_3_months = proc_dt + relativedelta(months=-3)\n",
    "print(proc_dt_minus_3_months)"
   ]
  },
  {
   "cell_type": "code",
   "execution_count": 17,
   "metadata": {},
   "outputs": [
    {
     "name": "stdout",
     "output_type": "stream",
     "text": [
      "2021-11-30\n"
     ]
    }
   ],
   "source": [
    "# add months\n",
    "proc_dt = datetime.date(2021,8,31)\n",
    "proc_dt_plus_3_months = proc_dt + relativedelta(months=+3)\n",
    "print(proc_dt_plus_3_months)"
   ]
  },
  {
   "cell_type": "code",
   "execution_count": 18,
   "metadata": {},
   "outputs": [
    {
     "name": "stdout",
     "output_type": "stream",
     "text": [
      "2021-12-22\n"
     ]
    }
   ],
   "source": [
    "# subtract days:\n",
    "proc_dt = datetime.date.today()\n",
    "proc_dt_minus_3_days = proc_dt + relativedelta(days=-3)\n",
    "print(proc_dt_minus_3_days)"
   ]
  },
  {
   "cell_type": "code",
   "execution_count": 19,
   "metadata": {},
   "outputs": [
    {
     "name": "stdout",
     "output_type": "stream",
     "text": [
      "2021-09-03\n"
     ]
    }
   ],
   "source": [
    "# add days days:\n",
    "proc_dt = datetime.date(2021,8,31)\n",
    "proc_dt_plus_3_days = proc_dt + relativedelta(days=+3)\n",
    "print(proc_dt_plus_3_days)"
   ]
  },
  {
   "cell_type": "code",
   "execution_count": 20,
   "metadata": {},
   "outputs": [
    {
     "name": "stdout",
     "output_type": "stream",
     "text": [
      "2018-08-31\n"
     ]
    }
   ],
   "source": [
    "# subtract years:\n",
    "proc_dt = datetime.date(2021,8,31)\n",
    "proc_dt_minus_3_years = proc_dt + relativedelta(years=-3)\n",
    "print(proc_dt_minus_3_years)"
   ]
  },
  {
   "cell_type": "code",
   "execution_count": 21,
   "metadata": {},
   "outputs": [
    {
     "name": "stdout",
     "output_type": "stream",
     "text": [
      "2024-08-31\n"
     ]
    }
   ],
   "source": [
    "# add years:\n",
    "proc_dt = datetime.date(2021,8,31)\n",
    "proc_dt_plus_3_years = proc_dt + relativedelta(years=+3)\n",
    "print(proc_dt_plus_3_years)"
   ]
  },
  {
   "cell_type": "code",
   "execution_count": null,
   "metadata": {},
   "outputs": [],
   "source": []
  },
  {
   "cell_type": "code",
   "execution_count": null,
   "metadata": {},
   "outputs": [],
   "source": []
  }
 ],
 "metadata": {
  "kernelspec": {
   "display_name": "Python 3",
   "language": "python",
   "name": "python3"
  },
  "language_info": {
   "codemirror_mode": {
    "name": "ipython",
    "version": 3
   },
   "file_extension": ".py",
   "mimetype": "text/x-python",
   "name": "python",
   "nbconvert_exporter": "python",
   "pygments_lexer": "ipython3",
   "version": "3.8.5"
  }
 },
 "nbformat": 4,
 "nbformat_minor": 4
}
